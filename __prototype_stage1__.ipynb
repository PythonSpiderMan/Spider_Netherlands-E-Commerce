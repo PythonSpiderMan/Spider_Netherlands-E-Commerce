{
 "cells": [
  {
   "cell_type": "code",
   "execution_count": 26,
   "metadata": {
    "collapsed": true
   },
   "outputs": [],
   "source": [
    "from __future__ import print_function\n",
    "import pandas as pd\n",
    "import os\n",
    "import logging\n",
    "from peewee import *\n",
    "from playhouse.sqlite_ext import SqliteExtDatabase\n",
    "import requests\n",
    "import w3lib.url\n",
    "import json\n",
    "import copy"
   ]
  },
  {
   "cell_type": "code",
   "execution_count": 2,
   "metadata": {
    "collapsed": true
   },
   "outputs": [],
   "source": [
    "df = pd.read_csv(\"input.csv\")\n",
    "post_code_list = df[\"post_code\"]"
   ]
  },
  {
   "cell_type": "code",
   "execution_count": 4,
   "metadata": {},
   "outputs": [],
   "source": [
    "request_url = \"https://zoeken.kvk.nl/JsonSearch.ashx?q=1100AC&prefproduct=&prefpayment=&start=40\""
   ]
  },
  {
   "cell_type": "code",
   "execution_count": 5,
   "metadata": {},
   "outputs": [
    {
     "data": {
      "text/plain": [
       "'1000AA'"
      ]
     },
     "execution_count": 5,
     "metadata": {},
     "output_type": "execute_result"
    }
   ],
   "source": [
    "post_code_list[0]"
   ]
  },
  {
   "cell_type": "code",
   "execution_count": 11,
   "metadata": {},
   "outputs": [],
   "source": [
    "url = w3lib.url.add_or_replace_parameter(request_url, \"q\", post_code_list[0])"
   ]
  },
  {
   "cell_type": "code",
   "execution_count": 13,
   "metadata": {},
   "outputs": [],
   "source": [
    "response = requests.get(url)"
   ]
  },
  {
   "cell_type": "code",
   "execution_count": 19,
   "metadata": {},
   "outputs": [],
   "source": [
    "json_obj = json.loads(response.text)"
   ]
  },
  {
   "cell_type": "code",
   "execution_count": 24,
   "metadata": {
    "collapsed": true
   },
   "outputs": [],
   "source": [
    "total_counts = int(int(json_obj['pageinfo']['resultscount'])/10)+1"
   ]
  },
  {
   "cell_type": "code",
   "execution_count": 30,
   "metadata": {},
   "outputs": [
    {
     "name": "stdout",
     "output_type": "stream",
     "text": [
      "post code `1000AA` has `5` first pages\n"
     ]
    }
   ],
   "source": [
    "print(\"post code `%s` has `%s` first pages\" % (str(post_code_list[0]), str(total_counts)))"
   ]
  },
  {
   "cell_type": "code",
   "execution_count": 27,
   "metadata": {
    "collapsed": true
   },
   "outputs": [],
   "source": [
    "urls_of_post_code = []\n",
    "for i in range(0, total_counts):\n",
    "    each_url = w3lib.url.add_or_replace_parameter(request_url, \"q\", post_code_list[0])\n",
    "    final_url = w3lib.url.add_or_replace_parameter(each_url, \"start\", str(i*10))\n",
    "    urls_of_post_code.append(copy.deepcopy(final_url))"
   ]
  },
  {
   "cell_type": "code",
   "execution_count": 28,
   "metadata": {},
   "outputs": [
    {
     "data": {
      "text/plain": [
       "['https://zoeken.kvk.nl/JsonSearch.ashx?q=1000AA&prefproduct=&prefpayment=&start=0',\n",
       " 'https://zoeken.kvk.nl/JsonSearch.ashx?q=1000AA&prefproduct=&prefpayment=&start=10',\n",
       " 'https://zoeken.kvk.nl/JsonSearch.ashx?q=1000AA&prefproduct=&prefpayment=&start=20',\n",
       " 'https://zoeken.kvk.nl/JsonSearch.ashx?q=1000AA&prefproduct=&prefpayment=&start=30',\n",
       " 'https://zoeken.kvk.nl/JsonSearch.ashx?q=1000AA&prefproduct=&prefpayment=&start=40']"
      ]
     },
     "execution_count": 28,
     "metadata": {},
     "output_type": "execute_result"
    }
   ],
   "source": [
    "urls_of_post_code"
   ]
  },
  {
   "cell_type": "code",
   "execution_count": 35,
   "metadata": {},
   "outputs": [],
   "source": [
    "class BaseModel(Model):\n",
    "    class Meta:\n",
    "        db = SqliteDatabase(\"temp_kvk_1.db\")\n",
    "        database = db.connect()\n",
    "\n",
    "class kvkFirstStageModel(BaseModel):\n",
    "    url = CharField(unique=True)\n",
    "    post_code = CharField()\n",
    "\n",
    "db = SqliteDatabase(\"temp_kvk_1.db\")\n",
    "db.connect()\n",
    "try:\n",
    "    db.drop_tables([kvkFirstStageModel])\n",
    "except:\n",
    "    pass\n",
    "db.create_tables([kvkFirstStageModel])"
   ]
  },
  {
   "cell_type": "code",
   "execution_count": 41,
   "metadata": {},
   "outputs": [],
   "source": [
    "for url_with_post_code in urls_of_post_code:\n",
    "    item = kvkFirstStageModel()\n",
    "    item.url = url_with_post_code\n",
    "    item.post_code = post_code_list[0]\n",
    "    try:\n",
    "        item.save()\n",
    "    except Exception as e:\n",
    "        logging.info(e)"
   ]
  },
  {
   "cell_type": "code",
   "execution_count": null,
   "metadata": {
    "collapsed": true
   },
   "outputs": [],
   "source": []
  }
 ],
 "metadata": {
  "kernelspec": {
   "display_name": "Python36 scrapy",
   "language": "python",
   "name": "myenv"
  },
  "language_info": {
   "codemirror_mode": {
    "name": "ipython",
    "version": 3
   },
   "file_extension": ".py",
   "mimetype": "text/x-python",
   "name": "python",
   "nbconvert_exporter": "python",
   "pygments_lexer": "ipython3",
   "version": "3.5.4"
  }
 },
 "nbformat": 4,
 "nbformat_minor": 2
}
