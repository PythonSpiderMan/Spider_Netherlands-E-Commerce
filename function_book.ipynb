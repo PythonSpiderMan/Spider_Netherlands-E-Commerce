{
 "cells": [
  {
   "cell_type": "code",
   "execution_count": 32,
   "metadata": {
    "collapsed": true
   },
   "outputs": [],
   "source": [
    "from __future__ import print_function\n",
    "from selenium import webdriver\n",
    "from selenium.webdriver.common.keys import Keys\n",
    "from selenium.webdriver.chrome.options import Options\n",
    "from selenium.webdriver.common.desired_capabilities import DesiredCapabilities\n",
    "from selenium.webdriver.common.action_chains import ActionChains\n",
    "import os\n",
    "import logging\n",
    "from parsel import Selector\n",
    "from pprint import *\n",
    "import time\n",
    "from peewee import *\n",
    "from playhouse.sqlite_ext import SqliteExtDatabase\n",
    "import datetime\n",
    "import re\n",
    "import copy\n",
    "import pandas as pd\n",
    "from IPython.display import display, HTML\n",
    "import psycopg2\n",
    "import json"
   ]
  },
  {
   "cell_type": "code",
   "execution_count": 33,
   "metadata": {
    "collapsed": true
   },
   "outputs": [],
   "source": [
    "input_post_code = \"1000AC\""
   ]
  },
  {
   "cell_type": "code",
   "execution_count": 34,
   "metadata": {
    "collapsed": true
   },
   "outputs": [],
   "source": [
    "xpath_more_information_hover = \"\"\"//ul[contains(@class, \"result\")]/li\"\"\""
   ]
  },
  {
   "cell_type": "code",
   "execution_count": 35,
   "metadata": {
    "collapsed": true
   },
   "outputs": [],
   "source": [
    "xpath_next_page = \"\"\"//li[contains(@class, \"volgende\")][not(contains(@class, \"not\"))]\"\"\"\n",
    "xpath_search_string_insert = \"\"\"//*[(@id = \"search-company-input\")]\"\"\"\n",
    "xpath_search_button = \"\"\"/html/body/div[2]/main/div/div/div/div[2]/button\"\"\""
   ]
  },
  {
   "cell_type": "code",
   "execution_count": 36,
   "metadata": {
    "collapsed": true
   },
   "outputs": [],
   "source": [
    "xpath_eight_digit_kvk = \"\"\"//*[contains(concat( \" \", @class, \" \" ), concat( \" \", \"meta\", \" \" ))]//p[(((count(preceding-sibling::*) + 1) = 1) and parent::*)]/text()\"\"\"\n",
    "xpath_twenty_digit_kvk = \"\"\"//*[contains(concat( \" \", @class, \" \" ), concat( \" \", \"result\", \" \" ))]/@href\"\"\"\n",
    "xpath_vesting_nr = \"\"\"//*[contains(concat( \" \", @class, \" \" ), concat( \" \", \"meta\", \" \" ))]//p[(((count(preceding-sibling::*) + 1) = 2) and parent::*)]/text()\"\"\"\n",
    "xpath_status_of_company = \"\"\"//li/a/p[@class=\"status\"]/text()\"\"\"\n",
    "xpath_headquarters = \"\"\"//*[contains(concat( \" \", @class, \" \" ), concat( \" \", \"type\", \" \" ))]/text()\"\"\"\n",
    "xpath_main_company_name = \"\"\"//h3/text()\"\"\"\n",
    "xpath_bestaande_handelsnamen = \"\"\"//div[@class=\"more-info\"]/h4[contains(text(), \"Bestaande\")]/following-sibling::p/text()\"\"\"\n",
    "xpath_statutaire_naam = \"\"\"//div[@class=\"more-info\"]/h4[contains(text(), \"Statutaire\")]/following-sibling::p/text()\"\"\"\n",
    "xpath_second_page_link = \"\"\"//*[contains(concat( \" \", @class, \" \" ), concat( \" \", \"result\", \" \" ))]/@href\"\"\""
   ]
  },
  {
   "cell_type": "code",
   "execution_count": 37,
   "metadata": {},
   "outputs": [
    {
     "name": "stdout",
     "output_type": "stream",
     "text": [
      "==============================\n",
      "Sqllite Intialization Succeed !\n",
      "==============================\n"
     ]
    }
   ],
   "source": [
    "db = SqliteDatabase(\"kvk_temp.db\")\n",
    "db.connect()\n",
    "\n",
    "class BaseModel(Model):\n",
    "    class Meta:\n",
    "        database = db\n",
    "    \n",
    "class kvkItemModel(BaseModel):\n",
    "    search_string = CharField()\n",
    "    eight_digit_kvk = CharField(null=True, unique=True)\n",
    "    twenty_digit_kvk = CharField(null=True)\n",
    "    vesting_nr = CharField(null=True)\n",
    "    status_of_company = CharField(null=True)\n",
    "    headquarters = BooleanField(null=True)\n",
    "    website = CharField(null=True)\n",
    "    main_company_name = CharField(null=True)\n",
    "    bestaande_handelsnamen = CharField(null=True)\n",
    "    statutaire_naam = CharField(null=True)\n",
    "    second_page_company_name = CharField(null=True)\n",
    "    street = CharField(null=True)\n",
    "    housenumber = CharField(null=True)\n",
    "    housenumber_extension = CharField(null=True)\n",
    "    postcode = CharField(null=True)\n",
    "    city = CharField(null=True)\n",
    "    extra_infomation = CharField(null=True)\n",
    "    second_page_link = CharField(null=True)\n",
    "        \n",
    "try:\n",
    "    db.drop_tables([kvkItemModel])\n",
    "except:\n",
    "    pass\n",
    "db.create_tables([kvkItemModel])\n",
    "print(\"=\"*30)\n",
    "print(\"Sqllite Intialization Succeed !\")\n",
    "print(\"=\"*30)"
   ]
  },
  {
   "cell_type": "code",
   "execution_count": 38,
   "metadata": {},
   "outputs": [
    {
     "name": "stdout",
     "output_type": "stream",
     "text": [
      "==============================\n",
      "Home page opened in remote browser !\n",
      "==============================\n"
     ]
    }
   ],
   "source": [
    "def web_driver_init():\n",
    "    driver = webdriver.Chrome()\n",
    "    driver.get(\"https://www.kvk.nl/orderstraat/bedrijf-kiezen/?orig=#!shop?&q=\")\n",
    "    time.sleep(5)\n",
    "    print(\"=\"*30)\n",
    "    print(\"Home page opened in remote browser !\")\n",
    "    print(\"=\"*30)\n",
    "    return driver\n",
    "\n",
    "driver = web_driver_init()"
   ]
  },
  {
   "cell_type": "code",
   "execution_count": 39,
   "metadata": {
    "collapsed": true
   },
   "outputs": [],
   "source": [
    "def insert_search_string_click_search():\n",
    "    driver.find_element_by_xpath(xpath_search_string_insert).send_keys(input_post_code)\n",
    "    driver.find_element_by_xpath(xpath_search_button).click()\n",
    "    time.sleep(2)\n"
   ]
  },
  {
   "cell_type": "code",
   "execution_count": 40,
   "metadata": {
    "collapsed": true
   },
   "outputs": [],
   "source": [
    "def open_more_information():\n",
    "    driver.execute_script(\"window.scrollTo(0, document.body.scrollHeight*4);\")\n",
    "    driver.execute_script(\"window.scrollTo(0, document.body.scrollHeight*4);\")\n",
    "    driver.execute_script(\"window.scrollTo(0, document.body.scrollHeight*4);\")\n",
    "    driver.execute_script(\"window.scrollTo(0, document.body.scrollHeight*4);\")\n",
    "#     more_information_elements = driver.find_elements_by_xpath(xpath_more_information_button)\n",
    "#     more_information_hover = driver.find_elements_by_xpath(xpath_more_information_hover)\n",
    "#     for index in range(0, len(more_information_elements)):\n",
    "#         hover = ActionChains(driver).move_to_element(more_information_hover[index])\n",
    "#         hover.perform()\n",
    "#         try:\n",
    "#             more_information_elements[index].click()\n",
    "#         except:\n",
    "#             pass"
   ]
  },
  {
   "cell_type": "code",
   "execution_count": 41,
   "metadata": {
    "collapsed": true
   },
   "outputs": [],
   "source": [
    "def extract_level1_company_info_on_page():\n",
    "    each_company = Selector(text=driver.page_source).xpath(xpath_more_information_hover).extract()\n",
    "    print(\"=\"*30)\n",
    "    print(\"New page Opened - Level1\")\n",
    "    print(\"=\"*30)\n",
    "    for company in each_company:\n",
    "        company_obj = Selector(text=company)\n",
    "        item = kvkItemModel()\n",
    "        item.search_string = copy.deepcopy(input_post_code)\n",
    "        item.eight_digit_kvk = str(company_obj.xpath(xpath_eight_digit_kvk).extract_first()).strip().split()[1]\n",
    "        item.twenty_digit_kvk = str(company_obj.xpath(xpath_twenty_digit_kvk).extract_first()).strip().split('kvknummer=')[-1].split('&')[0]\n",
    "        if len(item.twenty_digit_kvk) <= 11:\n",
    "            item.twenty_digit_kvk = str(item.twenty_digit_kvk) + \"0000\"\n",
    "        item.vesting_nr = str(company_obj.xpath(xpath_vesting_nr).extract_first()).strip().split(\" \")[-1]\n",
    "        if str(item.vesting_nr).startswith(\"Ves\") == True:\n",
    "            item.vesting_nr = \"None\"\n",
    "        item.status_of_company = str(company_obj.xpath(xpath_status_of_company).extract_first()).strip()\n",
    "        if company_obj.xpath(xpath_headquarters).extract_first() is None:\n",
    "            item.headquarters = False\n",
    "        else:\n",
    "            item.headquarters = True\n",
    "        item.main_company_name = str(company_obj.xpath(xpath_main_company_name).extract_first())\n",
    "        item.bestaande_handelsnamen = str(company_obj.xpath(xpath_bestaande_handelsnamen).extract_first())\n",
    "        item.statutaire_naam = str(company_obj.xpath(xpath_statutaire_naam).extract_first())\n",
    "        item.second_page_link = \"https://www.kvk.nl/\"+str(company_obj.xpath(xpath_second_page_link).extract_first())\n",
    "        try:\n",
    "            item.save()\n",
    "        except Exception as e:\n",
    "            # This means we have inserted a duplicate record.\n",
    "            pass"
   ]
  },
  {
   "cell_type": "code",
   "execution_count": 42,
   "metadata": {
    "collapsed": true
   },
   "outputs": [],
   "source": [
    "def has_next_page():\n",
    "    html = driver.page_source\n",
    "    if Selector(text=html).xpath(xpath_next_page).extract_first() is None:\n",
    "        return False\n",
    "    else:\n",
    "        return True"
   ]
  },
  {
   "cell_type": "code",
   "execution_count": 43,
   "metadata": {},
   "outputs": [
    {
     "name": "stdout",
     "output_type": "stream",
     "text": [
      "==============================\n",
      "Scraping process started !\n",
      "==============================\n",
      "==============================\n",
      "New page Opened - Level1\n",
      "==============================\n",
      "==============================\n",
      "New page Opened - Level1\n",
      "==============================\n",
      "==============================\n",
      "New page Opened - Level1\n",
      "==============================\n",
      "==============================\n",
      "New page Opened - Level1\n",
      "==============================\n"
     ]
    }
   ],
   "source": [
    "def extract_all_level1_company_info():\n",
    "    insert_search_string_click_search()\n",
    "    open_more_information()\n",
    "    extract_level1_company_info_on_page()\n",
    "    \n",
    "    while has_next_page() == True:\n",
    "        driver.find_element_by_xpath(xpath_next_page).click()\n",
    "        open_more_information()\n",
    "        time.sleep(3)\n",
    "        extract_level1_company_info_on_page()\n",
    "\n",
    "print(\"=\"*30)\n",
    "print(\"Scraping process started !\")\n",
    "print(\"=\"*30)\n",
    "extract_all_level1_company_info()\n"
   ]
  },
  {
   "cell_type": "code",
   "execution_count": 44,
   "metadata": {
    "collapsed": true
   },
   "outputs": [],
   "source": [
    "xpath_level2_website = \"\"\"//*[contains(concat( \" \", @class, \" \" ), concat( \" \", \"url\", \" \" ))]/text()\"\"\"\n",
    "xpath_level2_second_page_company_name = \"\"\"//*[contains(concat( \" \", @class, \" \" ), concat( \" \", \"order\", \" \" ))]//h3/text()\"\"\"\n",
    "xpath_level2_extra_infomation = \"\"\"//ul[@class=\"order\"]/li/p[not(contains(@class, \"type\"))]/text()\"\"\""
   ]
  },
  {
   "cell_type": "code",
   "execution_count": 45,
   "metadata": {},
   "outputs": [
    {
     "name": "stdout",
     "output_type": "stream",
     "text": [
      "==============================\n",
      "New page Opened - Level2\n",
      "==============================\n",
      "==============================\n",
      "New page Opened - Level2\n",
      "==============================\n",
      "==============================\n",
      "New page Opened - Level2\n",
      "==============================\n",
      "==============================\n",
      "New page Opened - Level2\n",
      "==============================\n",
      "==============================\n",
      "New page Opened - Level2\n",
      "==============================\n",
      "==============================\n",
      "New page Opened - Level2\n",
      "==============================\n",
      "==============================\n",
      "New page Opened - Level2\n",
      "==============================\n",
      "==============================\n",
      "New page Opened - Level2\n",
      "==============================\n",
      "==============================\n",
      "New page Opened - Level2\n",
      "==============================\n",
      "==============================\n",
      "New page Opened - Level2\n",
      "==============================\n",
      "==============================\n",
      "New page Opened - Level2\n",
      "==============================\n",
      "==============================\n",
      "Get banned, sleep for 5 seconds.\n",
      "==============================\n",
      "==============================\n",
      "New page Opened - Level2\n",
      "==============================\n",
      "==============================\n",
      "Get banned, sleep for 5 seconds.\n",
      "==============================\n",
      "==============================\n",
      "New page Opened - Level2\n",
      "==============================\n",
      "==============================\n",
      "New page Opened - Level2\n",
      "==============================\n",
      "==============================\n",
      "New page Opened - Level2\n",
      "==============================\n",
      "==============================\n",
      "New page Opened - Level2\n",
      "==============================\n",
      "==============================\n",
      "New page Opened - Level2\n",
      "==============================\n",
      "==============================\n",
      "New page Opened - Level2\n",
      "==============================\n",
      "==============================\n",
      "New page Opened - Level2\n",
      "==============================\n",
      "==============================\n",
      "New page Opened - Level2\n",
      "==============================\n",
      "==============================\n",
      "New page Opened - Level2\n",
      "==============================\n",
      "==============================\n",
      "New page Opened - Level2\n",
      "==============================\n",
      "==============================\n",
      "New page Opened - Level2\n",
      "==============================\n",
      "==============================\n",
      "Get banned, sleep for 5 seconds.\n",
      "==============================\n",
      "==============================\n",
      "New page Opened - Level2\n",
      "==============================\n",
      "==============================\n",
      "Get banned, sleep for 5 seconds.\n",
      "==============================\n",
      "==============================\n",
      "New page Opened - Level2\n",
      "==============================\n",
      "==============================\n",
      "New page Opened - Level2\n",
      "==============================\n",
      "==============================\n",
      "New page Opened - Level2\n",
      "==============================\n",
      "==============================\n",
      "New page Opened - Level2\n",
      "==============================\n",
      "==============================\n",
      "New page Opened - Level2\n",
      "==============================\n",
      "==============================\n",
      "New page Opened - Level2\n",
      "==============================\n",
      "==============================\n",
      "New page Opened - Level2\n",
      "==============================\n"
     ]
    }
   ],
   "source": [
    "errored_company = []\n",
    "for company in kvkItemModel.select():\n",
    "    driver.get(company.second_page_link)\n",
    "    time.sleep(3)\n",
    "    print(\"=\"*30)\n",
    "    print(\"New page Opened - Level2\")\n",
    "    print(\"=\"*30)\n",
    "    html = driver.page_source\n",
    "\n",
    "    company_obj = Selector(text=html)\n",
    "    company.website = str(company_obj.xpath(xpath_level2_website).extract_first())\n",
    "    company.second_page_company_name = str(company_obj.xpath(xpath_level2_second_page_company_name).extract_first())\n",
    "    company.extra_infomation = str(company_obj.xpath(xpath_level2_extra_infomation).extract())\n",
    "    \n",
    "    # extract the location info\n",
    "    company_location_info_list = company_obj.xpath(xpath_level2_extra_infomation).extract()\n",
    "    cleaned_company_location_info_list = []\n",
    "    for company_location_info in company_location_info_list:\n",
    "        # Find if this is a kvk\n",
    "        kvk = re.search(r\"(kvk +[0-9]+)\", company_location_info, flags=re.IGNORECASE)\n",
    "        if kvk is not None:\n",
    "            continue\n",
    "\n",
    "        # Find if this is a vesting nr\n",
    "        vest = re.search(r\"(Vestigingsnr.+)\", company_location_info, flags=re.IGNORECASE)\n",
    "        if vest is not None:\n",
    "            continue\n",
    "\n",
    "        cleaned_company_location_info_list.append(copy.deepcopy(company_location_info))\n",
    "    cleaned_company_location_info_string = str()\n",
    "    for cleaned_company_location_info in cleaned_company_location_info_list:\n",
    "        cleaned_company_location_info_string += cleaned_company_location_info\n",
    "        cleaned_company_location_info_string += \" \"\n",
    "    \n",
    "    try:\n",
    "        company.street = re.search(r'([^0-9]+)', cleaned_company_location_info_string, flags=re.IGNORECASE).group(0).strip()\n",
    "    except:\n",
    "        # This means we are getting banned\n",
    "        print(\"=\"*30)\n",
    "        print(\"Get banned, sleep for 5 seconds.\")\n",
    "        print(\"=\"*30)\n",
    "        errored_company.append(company)\n",
    "        time.sleep(5)\n",
    "        continue\n",
    "    try:\n",
    "        company.housenumber = re.search(r'([0-9]+)', cleaned_company_location_info_string).group(0).strip()\n",
    "    except:\n",
    "        pass\n",
    "    try:\n",
    "        company.housenumber_extension = re.search(r'([0-9]+ [A-Z]{1} )', cleaned_company_location_info_string).group(0).split()[-1]\n",
    "    except:\n",
    "        company.housenumber_extension = \"None\"\n",
    "    try:\n",
    "        company.postcode = re.search(r'( [\\d]{4}[\\S]+)', cleaned_company_location_info_string).group(0).strip()\n",
    "    except:\n",
    "        pass\n",
    "    try:\n",
    "        try:\n",
    "            re.search(r'( [\\d]{4}[\\S]+)', cleaned_company_location_info_string).group(0).strip()\n",
    "            company.city = re.sub(r'\\d+[A-Z]{2} ', \"\", re.search(r'(( [\\d]{4}[\\S]+).+)', cleaned_company_location_info_string).group(0).strip())\n",
    "        except:\n",
    "            try:\n",
    "                re.search(r'([0-9]+ [A-Z])', cleaned_company_location_info_string).group(0).split()[-1]\n",
    "                company.city = re.search(r'( [A-Z]{1} [\\S ]+)', cleaned_company_location_info_string).group(0).strip()[2:]\n",
    "            except:\n",
    "                try:\n",
    "                    company.city = re.sub(\"\\d+\", \"\", re.search(r'( [\\d]+ [\\S ]+)', cleaned_company_location_info_string).group(0).strip()).strip()\n",
    "                except:\n",
    "                    company.city = \"None\"\n",
    "    except:\n",
    "        pass\n",
    "    finally:      \n",
    "        company.save()"
   ]
  },
  {
   "cell_type": "code",
   "execution_count": 46,
   "metadata": {},
   "outputs": [
    {
     "name": "stdout",
     "output_type": "stream",
     "text": [
      "==============================\n",
      "New page Opened (Now Fixing Corrupted Records) - Level2\n",
      "==============================\n",
      "==============================\n",
      "New page Opened (Now Fixing Corrupted Records) - Level2\n",
      "==============================\n",
      "==============================\n",
      "New page Opened (Now Fixing Corrupted Records) - Level2\n",
      "==============================\n",
      "==============================\n",
      "New page Opened (Now Fixing Corrupted Records) - Level2\n",
      "==============================\n"
     ]
    }
   ],
   "source": [
    "for company in errored_company:\n",
    "    driver.get(company.second_page_link)\n",
    "    time.sleep(5)\n",
    "    print(\"=\"*30)\n",
    "    print(\"New page Opened (Now Fixing Corrupted Records) - Level2\")\n",
    "    print(\"=\"*30)\n",
    "    html = driver.page_source\n",
    "\n",
    "    company_obj = Selector(text=html)\n",
    "    company.website = str(company_obj.xpath(xpath_level2_website).extract_first())\n",
    "    company.second_page_company_name = str(company_obj.xpath(xpath_level2_second_page_company_name).extract_first())\n",
    "    company.extra_infomation = str(company_obj.xpath(xpath_level2_extra_infomation).extract())\n",
    "    \n",
    "    # extract the location info\n",
    "    company_location_info_list = company_obj.xpath(xpath_level2_extra_infomation).extract()\n",
    "    cleaned_company_location_info_list = []\n",
    "    for company_location_info in company_location_info_list:\n",
    "        # Find if this is a kvk\n",
    "        kvk = re.search(r\"(kvk +[0-9]+)\", company_location_info, flags=re.IGNORECASE)\n",
    "        if kvk is not None:\n",
    "            continue\n",
    "\n",
    "        # Find if this is a vesting nr\n",
    "        vest = re.search(r\"(Vestigingsnr.+)\", company_location_info, flags=re.IGNORECASE)\n",
    "        if vest is not None:\n",
    "            continue\n",
    "\n",
    "        cleaned_company_location_info_list.append(copy.deepcopy(company_location_info))\n",
    "    cleaned_company_location_info_string = str()\n",
    "    for cleaned_company_location_info in cleaned_company_location_info_list:\n",
    "        cleaned_company_location_info_string += cleaned_company_location_info\n",
    "        cleaned_company_location_info_string += \" \"\n",
    "    \n",
    "    try:\n",
    "        company.street = re.search(r'([^0-9]+)', cleaned_company_location_info_string, flags=re.IGNORECASE).group(0).strip()\n",
    "    except:\n",
    "        pass\n",
    "    try:\n",
    "        company.housenumber = re.search(r'([0-9]+)', cleaned_company_location_info_string).group(0).strip()\n",
    "    except:\n",
    "        pass\n",
    "    try:\n",
    "        company.housenumber_extension = re.search(r'([0-9]+ [A-Z]+)', cleaned_company_location_info_string).group(0).split()[-1]\n",
    "    except:\n",
    "        pass\n",
    "    try:\n",
    "        company.postcode = re.search(r'( [\\d]{4}[\\S]+)', cleaned_company_location_info_string).group(0).strip()\n",
    "    except:\n",
    "        pass\n",
    "    try:\n",
    "        company.city = re.sub(r'\\d+[A-Z]{2} ', \"\", re.search(r'(( [\\d]{4}[\\S]+).+)', cleaned_company_location_info_string).group(0).strip())\n",
    "    except:\n",
    "        pass\n",
    "    finally:      \n",
    "        company.save()"
   ]
  },
  {
   "cell_type": "code",
   "execution_count": 47,
   "metadata": {
    "collapsed": true
   },
   "outputs": [],
   "source": [
    "log_cols = [\"search_string\", \"8_digit_kvk\",\"12_digit_kvk\",\"vesting_nr\",\"status_of_company\",\"headquarters\",\"website\",\"main_company_name\",\"bestaande_handelsnamen\",\"statutaire_naam\",\"second_page_company_name\",\"street\",\"housenumber\",\"housenumber_extension\",\"postcode\",\"city\",\"extra_infomation\"]"
   ]
  },
  {
   "cell_type": "code",
   "execution_count": 48,
   "metadata": {},
   "outputs": [],
   "source": [
    "df = pd.DataFrame(columns=log_cols, dtype=str)\n",
    "for company in kvkItemModel.select():\n",
    "    df_row = pd.DataFrame([[company.search_string,\"%s\\t\"%company.eight_digit_kvk,\"%s\\t\"%company.twenty_digit_kvk,\"%s\\t\"%company.vesting_nr,company.status_of_company,company.headquarters,company.website,company.main_company_name,company.bestaande_handelsnamen,company.statutaire_naam,company.second_page_company_name,company.street,company.housenumber,company.housenumber_extension,company.postcode,company.city,company.extra_infomation]], columns=log_cols, dtype=str)\n",
    "    df = df.append(df_row, ignore_index=True)\n",
    "\n",
    "df.to_csv(\"file.csv\")\n"
   ]
  },
  {
   "cell_type": "code",
   "execution_count": 49,
   "metadata": {},
   "outputs": [
    {
     "name": "stdout",
     "output_type": "stream",
     "text": [
      "Job Done, successfully scrapped post_code: `1000AC`\n"
     ]
    }
   ],
   "source": [
    "print(\"Job Done, successfully scrapped post_code: `%s`\" % input_post_code)\n",
    "db.close()\n",
    "driver.close()"
   ]
  },
  {
   "cell_type": "code",
   "execution_count": null,
   "metadata": {
    "collapsed": true
   },
   "outputs": [],
   "source": []
  }
 ],
 "metadata": {
  "kernelspec": {
   "display_name": "Python36 scrapy",
   "language": "python",
   "name": "myenv"
  },
  "language_info": {
   "codemirror_mode": {
    "name": "ipython",
    "version": 3
   },
   "file_extension": ".py",
   "mimetype": "text/x-python",
   "name": "python",
   "nbconvert_exporter": "python",
   "pygments_lexer": "ipython3",
   "version": "3.5.4"
  }
 },
 "nbformat": 4,
 "nbformat_minor": 2
}
