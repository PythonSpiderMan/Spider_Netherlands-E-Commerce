{
 "cells": [
  {
   "cell_type": "code",
   "execution_count": 1,
   "metadata": {},
   "outputs": [
    {
     "data": {
      "text/plain": [
       "'xpath stop  here'"
      ]
     },
     "execution_count": 1,
     "metadata": {},
     "output_type": "execute_result"
    }
   ],
   "source": [
    "from selenium import webdriver\n",
    "from selenium.webdriver.common.keys import Keys\n",
    "from selenium.webdriver.chrome.options import Options\n",
    "from selenium.webdriver.common.desired_capabilities import DesiredCapabilities\n",
    "from selenium.webdriver.common.action_chains import ActionChains\n",
    "from selenium.webdriver.support.ui import WebDriverWait\n",
    "from selenium.webdriver.support import expected_conditions as EC\n",
    "from selenium.webdriver.common.by import By\n",
    "import os\n",
    "import logging\n",
    "from parsel import Selector\n",
    "from pprint import *\n",
    "import time\n",
    "from peewee import *\n",
    "from playhouse.sqlite_ext import SqliteExtDatabase\n",
    "import datetime\n",
    "import re\n",
    "import copy\n",
    "import pandas as pd\n",
    "from IPython.display import display, HTML, Image\n",
    "import psycopg2\n",
    "import json\n",
    "from w3lib.url import url_query_parameter\n",
    "import w3lib\n",
    "\"\"\"xpath start here\"\"\"\n",
    "xpath_pagination = \"\"\"//div[@class=\"search-result\"]/ul[@class=\"pagination\"]\"\"\"\n",
    "xpath_more_information_hover = \"\"\"//ul[contains(@class, \"result\")]/li\"\"\"\n",
    "xpath_next_page = \"\"\"//div[@class=\"search-result\"]/ul[@class=\"pagination\"]/li[contains(@class, \"volgende\")][not(contains(@class, \"not\"))]\"\"\"\n",
    "xpath_next_page_url = \"\"\"//div[@class=\"search-result\"]/ul[@class=\"pagination\"]/li[contains(@class, \"volgende\")][not(contains(@class, \"not\"))]/a/@href\"\"\"\n",
    "xpath_search_string_insert = \"\"\"//*[(@id = \"search-company-input\")]\"\"\"\n",
    "xpath_search_button = \"\"\"/html/body/div[2]/main/div/div/div/div[2]/button\"\"\"\n",
    "xpath_eight_digit_kvk = \"\"\"//*[contains(concat( \" \", @class, \" \" ), concat( \" \", \"meta\", \" \" ))]//p[(((count(preceding-sibling::*) + 1) = 1) and parent::*)]/text()\"\"\"\n",
    "xpath_twenty_digit_kvk = \"\"\"//*[contains(concat( \" \", @class, \" \" ), concat( \" \", \"result\", \" \" ))]/@href\"\"\"\n",
    "xpath_vesting_nr = \"\"\"//*[contains(concat( \" \", @class, \" \" ), concat( \" \", \"meta\", \" \" ))]//p[(((count(preceding-sibling::*) + 1) = 2) and parent::*)]/text()\"\"\"\n",
    "xpath_status_of_company = \"\"\"//li/a/p[@class=\"status\"]/text()\"\"\"\n",
    "xpath_headquarters = \"\"\"//*[contains(concat( \" \", @class, \" \" ), concat( \" \", \"type\", \" \" ))]/text()\"\"\"\n",
    "xpath_main_company_name = \"\"\"//h3/text()\"\"\"\n",
    "xpath_bestaande_handelsnamen = \"\"\"//div[@class=\"more-info\"]/h4[contains(text(), \"Bestaande\")]/following-sibling::p/text()\"\"\"\n",
    "xpath_statutaire_naam = \"\"\"//div[@class=\"more-info\"]/h4[contains(text(), \"Statutaire\")]/following-sibling::p/text()\"\"\"\n",
    "xpath_second_page_link = \"\"\"//*[contains(concat( \" \", @class, \" \" ), concat( \" \", \"result\", \" \" ))]/@href\"\"\"\n",
    "\"\"\"xpath stop  here\"\"\""
   ]
  },
  {
   "cell_type": "code",
   "execution_count": 2,
   "metadata": {},
   "outputs": [
    {
     "name": "stdout",
     "output_type": "stream",
     "text": [
      "==============================\n",
      "Sqllite Intialization Succeed !\n",
      "==============================\n"
     ]
    }
   ],
   "source": [
    "global db\n",
    "db = SqliteDatabase(\"kvk_temp.db\")\n",
    "db.connect()\n",
    "class BaseModel(Model):\n",
    "    class Meta:\n",
    "        global db\n",
    "        database = db\n",
    "\n",
    "class kvkItemModel(BaseModel):\n",
    "    search_string = CharField()\n",
    "    eight_digit_kvk = CharField(null=True, unique=True)\n",
    "    twenty_digit_kvk = CharField(null=True)\n",
    "    vesting_nr = CharField(null=True)\n",
    "    status_of_company = CharField(null=True)\n",
    "    headquarters = BooleanField(null=True)\n",
    "    website = CharField(null=True)\n",
    "    main_company_name = CharField(null=True)\n",
    "    bestaande_handelsnamen = CharField(null=True)\n",
    "    statutaire_naam = CharField(null=True)\n",
    "    second_page_company_name = CharField(null=True)\n",
    "    street = CharField(null=True)\n",
    "    housenumber = CharField(null=True)\n",
    "    housenumber_extension = CharField(null=True)\n",
    "    postcode = CharField(null=True)\n",
    "    city = CharField(null=True)\n",
    "    extra_infomation = CharField(null=True)\n",
    "    second_page_link = CharField(null=True)\n",
    "try:\n",
    "    db.drop_tables([kvkItemModel])\n",
    "except:\n",
    "    pass\n",
    "db.create_tables([kvkItemModel])\n",
    "print(\"=\" * 30)\n",
    "print(\"Sqllite Intialization Succeed !\")\n",
    "print(\"=\" * 30)\n",
    "db.close()"
   ]
  },
  {
   "cell_type": "code",
   "execution_count": 3,
   "metadata": {
    "collapsed": true
   },
   "outputs": [],
   "source": [
    " def start_web_driver():\n",
    "        # local browser        \n",
    "        web_driver = webdriver.Chrome()\n",
    "        web_driver.get(\"about:blank\")\n",
    "        return web_driver\n",
    "\n",
    "#         # remote browser\n",
    "#         web_driver = None\n",
    "#         try:\n",
    "#             web_driver = webdriver.Remote(command_executor=\"http://172.104.57.173:3000/wd/hub\",\n",
    "#                                              desired_capabilities=DesiredCapabilities.CHROME)\n",
    "#             web_driver.get(\"about:blank\")\n",
    "#             return web_driver\n",
    "#         except:\n",
    "#             logging.error(\"Remote Chrome Webdriver failed\")\n",
    "\n",
    "#         raise Exception(\"There is no webdriver available for me\")\n",
    "\n",
    "driver = start_web_driver()"
   ]
  },
  {
   "cell_type": "code",
   "execution_count": 4,
   "metadata": {
    "collapsed": true
   },
   "outputs": [],
   "source": [
    "def read_post_codes_file():\n",
    "    df = pd.read_csv(\"input.csv\")\n",
    "    return df[\"post_code\"]\n",
    "\n",
    "post_codes_list = read_post_codes_file()"
   ]
  },
  {
   "cell_type": "code",
   "execution_count": 5,
   "metadata": {},
   "outputs": [
    {
     "name": "stdout",
     "output_type": "stream",
     "text": [
      "==============================\n",
      "Home page opened in remote browser !\n",
      "==============================\n"
     ]
    }
   ],
   "source": [
    "def open_home_page():\n",
    "    driver.get(url=\"about:blank\")\n",
    "    driver.get(url=\"https://www.kvk.nl/orderstraat/bedrijf-kiezen/?orig=#!shop?&q=\")\n",
    "    try:\n",
    "        WebDriverWait(driver, 5).until(\n",
    "            EC.presence_of_element_located((By.XPATH, xpath_search_string_insert))\n",
    "        )\n",
    "        print(\"=\" * 30)\n",
    "        print(\"Home page opened in remote browser !\")\n",
    "        print(\"=\" * 30)\n",
    "    except Exception as e:\n",
    "        logging.error(e)\n",
    "        print(\"Your ip may got banned, Check your internet connection please.\")\n",
    "        quit()\n",
    "        \n",
    "open_home_page()"
   ]
  },
  {
   "cell_type": "code",
   "execution_count": 6,
   "metadata": {
    "collapsed": true
   },
   "outputs": [],
   "source": [
    "input_post_code = post_codes_list[1]\n",
    "total_page_of_postcode = 0"
   ]
  },
  {
   "cell_type": "code",
   "execution_count": 7,
   "metadata": {},
   "outputs": [
    {
     "name": "stdout",
     "output_type": "stream",
     "text": [
      "==============================\n",
      "search string `1000AB` inserted !\n",
      "++++++++++++++++++++++++++++++\n"
     ]
    }
   ],
   "source": [
    "def insert_search_string_click_search():\n",
    "    driver.find_element_by_xpath(xpath_search_string_insert).clear()\n",
    "    driver.find_element_by_xpath(xpath_search_string_insert).send_keys(input_post_code)\n",
    "    driver.find_element_by_xpath(xpath_search_button).click()\n",
    "    try:\n",
    "        WebDriverWait(driver, 5).until(\n",
    "            EC.presence_of_element_located((By.XPATH, xpath_more_information_hover))\n",
    "        )\n",
    "        print(\"=\"*30)\n",
    "        print(\"search string `%s` inserted !\" % str(input_post_code))\n",
    "        print(\"+\"*30)\n",
    "    except Exception as e:\n",
    "        logging.error(\"Cannot insert search string to input field.\")\n",
    "        logging.error(e)\n",
    "\n",
    "insert_search_string_click_search()"
   ]
  },
  {
   "cell_type": "code",
   "execution_count": 8,
   "metadata": {},
   "outputs": [
    {
     "name": "stdout",
     "output_type": "stream",
     "text": [
      "==============================\n",
      "collecting the 1 page of postcode: 1000AB\n",
      "found `10` companies on this page\n",
      "Valid Count:1 \n",
      "Valid Count:2 \n",
      "Valid Count:3 \n",
      "Valid Count:4 \n",
      "Valid Count:5 \n",
      "Valid Count:6 \n",
      "Valid Count:7 \n",
      "Duplicate Count:1 \n",
      "Valid Count:8 \n",
      "Duplicate Count:2 \n",
      "++++++++++++++++++++++++++++++\n"
     ]
    }
   ],
   "source": [
    "def extract_data_from_page(total_page_of_postcode):\n",
    "    total_page_of_postcode += 1\n",
    "    companies = Selector(text=driver.page_source).xpath(xpath_more_information_hover).extract()\n",
    "    print(\"=\" * 30)\n",
    "    print(\"collecting the %s page of postcode: %s\" % (str(total_page_of_postcode), str(input_post_code)))\n",
    "    print(\"found `%s` companies on this page\" % len(companies))\n",
    "    duplicate_count = 0\n",
    "    valid_count = 0\n",
    "    \n",
    "    for company in companies:\n",
    "        company_obj = Selector(text=company)\n",
    "        item = kvkItemModel()\n",
    "        item.search_string = copy.deepcopy(input_post_code)\n",
    "        item.eight_digit_kvk = str(company_obj.xpath(xpath_eight_digit_kvk).extract_first()).strip().split()[1]\n",
    "        item.twenty_digit_kvk = \\\n",
    "            str(company_obj.xpath(xpath_twenty_digit_kvk).extract_first()).strip().split('kvknummer=')[-1].split('&')[0]\n",
    "        if len(item.twenty_digit_kvk) <= 11:\n",
    "            item.twenty_digit_kvk = str(item.twenty_digit_kvk) + \"0000\"\n",
    "        item.vesting_nr = str(company_obj.xpath(xpath_vesting_nr).extract_first()).strip().split(\" \")[-1]\n",
    "        if str(item.vesting_nr).startswith(\"Ves\") is True:\n",
    "            item.vesting_nr = \"None\"\n",
    "        item.status_of_company = str(company_obj.xpath(xpath_status_of_company).extract_first()).strip()\n",
    "        if company_obj.xpath(xpath_headquarters).extract_first() is None:\n",
    "            item.headquarters = False\n",
    "        else:\n",
    "            item.headquarters = True\n",
    "        item.main_company_name = str(company_obj.xpath(xpath_main_company_name).extract_first())\n",
    "        item.bestaande_handelsnamen = str(company_obj.xpath(xpath_bestaande_handelsnamen).extract_first())\n",
    "        item.statutaire_naam = str(company_obj.xpath(xpath_statutaire_naam).extract_first())\n",
    "        item.second_page_link = \"https://www.kvk.nl/\" + str(\n",
    "            company_obj.xpath(xpath_second_page_link).extract_first())\n",
    "        try:\n",
    "            item.save()\n",
    "            valid_count += 1\n",
    "            print(\"Valid Count:%s \" % str(valid_count))\n",
    "        except Exception as e:\n",
    "            # This means we have inserted a duplicate record.\n",
    "            duplicate_count += 1\n",
    "            print(\"Duplicate Count:%s \" % str(duplicate_count))\n",
    "    \n",
    "    print(\"+\" * 30)\n",
    "    \n",
    "extract_data_from_page(total_page_of_postcode)"
   ]
  },
  {
   "cell_type": "code",
   "execution_count": 10,
   "metadata": {},
   "outputs": [],
   "source": [
    "\n",
    "driver.execute_script(\"$('body').css({'overflow':'hidden'}); $(document).bind('scroll',function () { window.scrollTo(0,document.body.scrollHeight); });\")\n"
   ]
  },
  {
   "cell_type": "code",
   "execution_count": 11,
   "metadata": {
    "collapsed": true
   },
   "outputs": [],
   "source": [
    "driver.execute_script(\"window.scrollTo(0,document.body.scrollHeight);\")"
   ]
  },
  {
   "cell_type": "code",
   "execution_count": 9,
   "metadata": {
    "collapsed": true
   },
   "outputs": [],
   "source": [
    "def has_next_page():\n",
    "    html = driver.page_source\n",
    "    driver.execute_script(\"window.scrollTo(0,document.body.scrollHeight);\")\n",
    "    driver.execute_async_script(\"$('body').css({'overflow':'hidden'});$(document).bind('scroll',function(){window.scrollTo(0,document.body.scrollHeight);});\")\n",
    "    if Selector(text=html).xpath(xpath_next_page).extract_first() is None:\n",
    "        return False\n",
    "    else:\n",
    "        return True"
   ]
  },
  {
   "cell_type": "code",
   "execution_count": 10,
   "metadata": {},
   "outputs": [],
   "source": [
    "def goto_next_page():\n",
    "    element_to_click = driver.find_element_by_xpath(xpath_next_page)\n",
    "#     driver.execute_script(\"arguments[0].scrollIntoView();\", element_to_click)\n",
    "    try:     \n",
    "        actions = ActionChains(driver)\n",
    "        actions.move_to_element(element_to_click)\n",
    "        actions.perform()\n",
    "        \n",
    "        driver.find_element_by_xpath(xpath_next_page).click()\n",
    "    except:\n",
    "        goto_next_page()"
   ]
  },
  {
   "cell_type": "code",
   "execution_count": 11,
   "metadata": {},
   "outputs": [],
   "source": [
    "def start_scrapping_all_result_pages():\n",
    "    while has_next_page() is True:\n",
    "        goto_next_page()\n",
    "        extract_data_from_page(total_page_of_postcode)\n",
    "    \n",
    "    print(\"=\"*30)\n",
    "    print(\"all the first page of postcode: `%s` finished collecting\" % input_post_code)\n",
    "    print(\"+\"*30)"
   ]
  },
  {
   "cell_type": "code",
   "execution_count": 12,
   "metadata": {
    "scrolled": false
   },
   "outputs": [
    {
     "ename": "TimeoutException",
     "evalue": "Message: Timed out\n",
     "output_type": "error",
     "traceback": [
      "\u001b[1;31m---------------------------------------------------------------------------\u001b[0m",
      "\u001b[1;31mTimeoutException\u001b[0m                          Traceback (most recent call last)",
      "\u001b[1;32m<ipython-input-12-d3c114a077eb>\u001b[0m in \u001b[0;36m<module>\u001b[1;34m()\u001b[0m\n\u001b[1;32m----> 1\u001b[1;33m \u001b[0mstart_scrapping_all_result_pages\u001b[0m\u001b[1;33m(\u001b[0m\u001b[1;33m)\u001b[0m\u001b[1;33m\u001b[0m\u001b[0m\n\u001b[0m",
      "\u001b[1;32m<ipython-input-11-15f0827ee3c5>\u001b[0m in \u001b[0;36mstart_scrapping_all_result_pages\u001b[1;34m()\u001b[0m\n\u001b[0;32m      1\u001b[0m \u001b[1;32mdef\u001b[0m \u001b[0mstart_scrapping_all_result_pages\u001b[0m\u001b[1;33m(\u001b[0m\u001b[1;33m)\u001b[0m\u001b[1;33m:\u001b[0m\u001b[1;33m\u001b[0m\u001b[0m\n\u001b[1;32m----> 2\u001b[1;33m     \u001b[1;32mwhile\u001b[0m \u001b[0mhas_next_page\u001b[0m\u001b[1;33m(\u001b[0m\u001b[1;33m)\u001b[0m \u001b[1;32mis\u001b[0m \u001b[1;32mTrue\u001b[0m\u001b[1;33m:\u001b[0m\u001b[1;33m\u001b[0m\u001b[0m\n\u001b[0m\u001b[0;32m      3\u001b[0m         \u001b[0mgoto_next_page\u001b[0m\u001b[1;33m(\u001b[0m\u001b[1;33m)\u001b[0m\u001b[1;33m\u001b[0m\u001b[0m\n\u001b[0;32m      4\u001b[0m         \u001b[0mextract_data_from_page\u001b[0m\u001b[1;33m(\u001b[0m\u001b[0mtotal_page_of_postcode\u001b[0m\u001b[1;33m)\u001b[0m\u001b[1;33m\u001b[0m\u001b[0m\n\u001b[0;32m      5\u001b[0m \u001b[1;33m\u001b[0m\u001b[0m\n",
      "\u001b[1;32m<ipython-input-9-257b16aa88d9>\u001b[0m in \u001b[0;36mhas_next_page\u001b[1;34m()\u001b[0m\n\u001b[0;32m      1\u001b[0m \u001b[1;32mdef\u001b[0m \u001b[0mhas_next_page\u001b[0m\u001b[1;33m(\u001b[0m\u001b[1;33m)\u001b[0m\u001b[1;33m:\u001b[0m\u001b[1;33m\u001b[0m\u001b[0m\n\u001b[0;32m      2\u001b[0m     \u001b[0mhtml\u001b[0m \u001b[1;33m=\u001b[0m \u001b[0mdriver\u001b[0m\u001b[1;33m.\u001b[0m\u001b[0mpage_source\u001b[0m\u001b[1;33m\u001b[0m\u001b[0m\n\u001b[1;32m----> 3\u001b[1;33m     \u001b[0mdriver\u001b[0m\u001b[1;33m.\u001b[0m\u001b[0mexecute_async_script\u001b[0m\u001b[1;33m(\u001b[0m\u001b[1;34m\"$('body').css({'overflow':'hidden'});$(document).bind('scroll',function(){window.scrollTo(0,document.body.scrollHeight);});\"\u001b[0m\u001b[1;33m)\u001b[0m\u001b[1;33m\u001b[0m\u001b[0m\n\u001b[0m\u001b[0;32m      4\u001b[0m     \u001b[1;32mif\u001b[0m \u001b[0mSelector\u001b[0m\u001b[1;33m(\u001b[0m\u001b[0mtext\u001b[0m\u001b[1;33m=\u001b[0m\u001b[0mhtml\u001b[0m\u001b[1;33m)\u001b[0m\u001b[1;33m.\u001b[0m\u001b[0mxpath\u001b[0m\u001b[1;33m(\u001b[0m\u001b[0mxpath_next_page\u001b[0m\u001b[1;33m)\u001b[0m\u001b[1;33m.\u001b[0m\u001b[0mextract_first\u001b[0m\u001b[1;33m(\u001b[0m\u001b[1;33m)\u001b[0m \u001b[1;32mis\u001b[0m \u001b[1;32mNone\u001b[0m\u001b[1;33m:\u001b[0m\u001b[1;33m\u001b[0m\u001b[0m\n\u001b[0;32m      5\u001b[0m         \u001b[1;32mreturn\u001b[0m \u001b[1;32mFalse\u001b[0m\u001b[1;33m\u001b[0m\u001b[0m\n",
      "\u001b[1;32mC:\\ProgramData\\Anaconda3\\envs\\scrapy\\lib\\site-packages\\selenium\\webdriver\\remote\\webdriver.py\u001b[0m in \u001b[0;36mexecute_async_script\u001b[1;34m(self, script, *args)\u001b[0m\n\u001b[0;32m    562\u001b[0m         return self.execute(command, {\n\u001b[0;32m    563\u001b[0m             \u001b[1;34m'script'\u001b[0m\u001b[1;33m:\u001b[0m \u001b[0mscript\u001b[0m\u001b[1;33m,\u001b[0m\u001b[1;33m\u001b[0m\u001b[0m\n\u001b[1;32m--> 564\u001b[1;33m             'args': converted_args})['value']\n\u001b[0m\u001b[0;32m    565\u001b[0m \u001b[1;33m\u001b[0m\u001b[0m\n\u001b[0;32m    566\u001b[0m     \u001b[1;33m@\u001b[0m\u001b[0mproperty\u001b[0m\u001b[1;33m\u001b[0m\u001b[0m\n",
      "\u001b[1;32mC:\\ProgramData\\Anaconda3\\envs\\scrapy\\lib\\site-packages\\selenium\\webdriver\\remote\\webdriver.py\u001b[0m in \u001b[0;36mexecute\u001b[1;34m(self, driver_command, params)\u001b[0m\n\u001b[0;32m    306\u001b[0m         \u001b[0mresponse\u001b[0m \u001b[1;33m=\u001b[0m \u001b[0mself\u001b[0m\u001b[1;33m.\u001b[0m\u001b[0mcommand_executor\u001b[0m\u001b[1;33m.\u001b[0m\u001b[0mexecute\u001b[0m\u001b[1;33m(\u001b[0m\u001b[0mdriver_command\u001b[0m\u001b[1;33m,\u001b[0m \u001b[0mparams\u001b[0m\u001b[1;33m)\u001b[0m\u001b[1;33m\u001b[0m\u001b[0m\n\u001b[0;32m    307\u001b[0m         \u001b[1;32mif\u001b[0m \u001b[0mresponse\u001b[0m\u001b[1;33m:\u001b[0m\u001b[1;33m\u001b[0m\u001b[0m\n\u001b[1;32m--> 308\u001b[1;33m             \u001b[0mself\u001b[0m\u001b[1;33m.\u001b[0m\u001b[0merror_handler\u001b[0m\u001b[1;33m.\u001b[0m\u001b[0mcheck_response\u001b[0m\u001b[1;33m(\u001b[0m\u001b[0mresponse\u001b[0m\u001b[1;33m)\u001b[0m\u001b[1;33m\u001b[0m\u001b[0m\n\u001b[0m\u001b[0;32m    309\u001b[0m             response['value'] = self._unwrap_value(\n\u001b[0;32m    310\u001b[0m                 response.get('value', None))\n",
      "\u001b[1;32mC:\\ProgramData\\Anaconda3\\envs\\scrapy\\lib\\site-packages\\selenium\\webdriver\\remote\\errorhandler.py\u001b[0m in \u001b[0;36mcheck_response\u001b[1;34m(self, response)\u001b[0m\n\u001b[0;32m    192\u001b[0m         \u001b[1;32melif\u001b[0m \u001b[0mexception_class\u001b[0m \u001b[1;33m==\u001b[0m \u001b[0mUnexpectedAlertPresentException\u001b[0m \u001b[1;32mand\u001b[0m \u001b[1;34m'alert'\u001b[0m \u001b[1;32min\u001b[0m \u001b[0mvalue\u001b[0m\u001b[1;33m:\u001b[0m\u001b[1;33m\u001b[0m\u001b[0m\n\u001b[0;32m    193\u001b[0m             \u001b[1;32mraise\u001b[0m \u001b[0mexception_class\u001b[0m\u001b[1;33m(\u001b[0m\u001b[0mmessage\u001b[0m\u001b[1;33m,\u001b[0m \u001b[0mscreen\u001b[0m\u001b[1;33m,\u001b[0m \u001b[0mstacktrace\u001b[0m\u001b[1;33m,\u001b[0m \u001b[0mvalue\u001b[0m\u001b[1;33m[\u001b[0m\u001b[1;34m'alert'\u001b[0m\u001b[1;33m]\u001b[0m\u001b[1;33m.\u001b[0m\u001b[0mget\u001b[0m\u001b[1;33m(\u001b[0m\u001b[1;34m'text'\u001b[0m\u001b[1;33m)\u001b[0m\u001b[1;33m)\u001b[0m\u001b[1;33m\u001b[0m\u001b[0m\n\u001b[1;32m--> 194\u001b[1;33m         \u001b[1;32mraise\u001b[0m \u001b[0mexception_class\u001b[0m\u001b[1;33m(\u001b[0m\u001b[0mmessage\u001b[0m\u001b[1;33m,\u001b[0m \u001b[0mscreen\u001b[0m\u001b[1;33m,\u001b[0m \u001b[0mstacktrace\u001b[0m\u001b[1;33m)\u001b[0m\u001b[1;33m\u001b[0m\u001b[0m\n\u001b[0m\u001b[0;32m    195\u001b[0m \u001b[1;33m\u001b[0m\u001b[0m\n\u001b[0;32m    196\u001b[0m     \u001b[1;32mdef\u001b[0m \u001b[0m_value_or_default\u001b[0m\u001b[1;33m(\u001b[0m\u001b[0mself\u001b[0m\u001b[1;33m,\u001b[0m \u001b[0mobj\u001b[0m\u001b[1;33m,\u001b[0m \u001b[0mkey\u001b[0m\u001b[1;33m,\u001b[0m \u001b[0mdefault\u001b[0m\u001b[1;33m)\u001b[0m\u001b[1;33m:\u001b[0m\u001b[1;33m\u001b[0m\u001b[0m\n",
      "\u001b[1;31mTimeoutException\u001b[0m: Message: Timed out\n"
     ]
    }
   ],
   "source": [
    "start_scrapping_all_result_pages()"
   ]
  },
  {
   "cell_type": "code",
   "execution_count": null,
   "metadata": {},
   "outputs": [],
   "source": [
    "e = EC.element_to_be_clickable((By.XPATH, xpath_next_page))"
   ]
  },
  {
   "cell_type": "code",
   "execution_count": null,
   "metadata": {},
   "outputs": [],
   "source": [
    "e = driver.find_element_by_xpath(xpath_next_page)"
   ]
  },
  {
   "cell_type": "code",
   "execution_count": 27,
   "metadata": {},
   "outputs": [
    {
     "data": {
      "text/plain": [
       "False"
      ]
     },
     "execution_count": 27,
     "metadata": {},
     "output_type": "execute_result"
    }
   ],
   "source": [
    "e.is_selected()"
   ]
  },
  {
   "cell_type": "code",
   "execution_count": 31,
   "metadata": {},
   "outputs": [
    {
     "ename": "MoveTargetOutOfBoundsException",
     "evalue": "Message: (306.45833587646484, 2158.10009765625) is out of bounds of viewport width (1011) and height (1039)\n",
     "output_type": "error",
     "traceback": [
      "\u001b[1;31m---------------------------------------------------------------------------\u001b[0m",
      "\u001b[1;31mMoveTargetOutOfBoundsException\u001b[0m            Traceback (most recent call last)",
      "\u001b[1;32m<ipython-input-31-f64bdd1ad2c9>\u001b[0m in \u001b[0;36m<module>\u001b[1;34m()\u001b[0m\n\u001b[1;32m----> 1\u001b[1;33m \u001b[0mActionChains\u001b[0m\u001b[1;33m(\u001b[0m\u001b[0mdriver\u001b[0m\u001b[1;33m)\u001b[0m\u001b[1;33m.\u001b[0m\u001b[0mclick\u001b[0m\u001b[1;33m(\u001b[0m\u001b[0mdriver\u001b[0m\u001b[1;33m.\u001b[0m\u001b[0mfind_element_by_xpath\u001b[0m\u001b[1;33m(\u001b[0m\u001b[0mxpath_next_page\u001b[0m\u001b[1;33m)\u001b[0m\u001b[1;33m)\u001b[0m\u001b[1;33m.\u001b[0m\u001b[0mperform\u001b[0m\u001b[1;33m(\u001b[0m\u001b[1;33m)\u001b[0m\u001b[1;33m\u001b[0m\u001b[0m\n\u001b[0m",
      "\u001b[1;32mC:\\ProgramData\\Anaconda3\\envs\\scrapy\\lib\\site-packages\\selenium\\webdriver\\common\\action_chains.py\u001b[0m in \u001b[0;36mperform\u001b[1;34m(self)\u001b[0m\n\u001b[0;32m     78\u001b[0m         \"\"\"\n\u001b[0;32m     79\u001b[0m         \u001b[1;32mif\u001b[0m \u001b[0mself\u001b[0m\u001b[1;33m.\u001b[0m\u001b[0m_driver\u001b[0m\u001b[1;33m.\u001b[0m\u001b[0mw3c\u001b[0m\u001b[1;33m:\u001b[0m\u001b[1;33m\u001b[0m\u001b[0m\n\u001b[1;32m---> 80\u001b[1;33m             \u001b[0mself\u001b[0m\u001b[1;33m.\u001b[0m\u001b[0mw3c_actions\u001b[0m\u001b[1;33m.\u001b[0m\u001b[0mperform\u001b[0m\u001b[1;33m(\u001b[0m\u001b[1;33m)\u001b[0m\u001b[1;33m\u001b[0m\u001b[0m\n\u001b[0m\u001b[0;32m     81\u001b[0m         \u001b[1;32melse\u001b[0m\u001b[1;33m:\u001b[0m\u001b[1;33m\u001b[0m\u001b[0m\n\u001b[0;32m     82\u001b[0m             \u001b[1;32mfor\u001b[0m \u001b[0maction\u001b[0m \u001b[1;32min\u001b[0m \u001b[0mself\u001b[0m\u001b[1;33m.\u001b[0m\u001b[0m_actions\u001b[0m\u001b[1;33m:\u001b[0m\u001b[1;33m\u001b[0m\u001b[0m\n",
      "\u001b[1;32mC:\\ProgramData\\Anaconda3\\envs\\scrapy\\lib\\site-packages\\selenium\\webdriver\\common\\actions\\action_builder.py\u001b[0m in \u001b[0;36mperform\u001b[1;34m(self)\u001b[0m\n\u001b[0;32m     74\u001b[0m             \u001b[1;32mif\u001b[0m \u001b[0mencoded\u001b[0m\u001b[1;33m[\u001b[0m\u001b[1;34m'actions'\u001b[0m\u001b[1;33m]\u001b[0m\u001b[1;33m:\u001b[0m\u001b[1;33m\u001b[0m\u001b[0m\n\u001b[0;32m     75\u001b[0m                 \u001b[0menc\u001b[0m\u001b[1;33m[\u001b[0m\u001b[1;34m\"actions\"\u001b[0m\u001b[1;33m]\u001b[0m\u001b[1;33m.\u001b[0m\u001b[0mappend\u001b[0m\u001b[1;33m(\u001b[0m\u001b[0mencoded\u001b[0m\u001b[1;33m)\u001b[0m\u001b[1;33m\u001b[0m\u001b[0m\n\u001b[1;32m---> 76\u001b[1;33m         \u001b[0mself\u001b[0m\u001b[1;33m.\u001b[0m\u001b[0mdriver\u001b[0m\u001b[1;33m.\u001b[0m\u001b[0mexecute\u001b[0m\u001b[1;33m(\u001b[0m\u001b[0mCommand\u001b[0m\u001b[1;33m.\u001b[0m\u001b[0mW3C_ACTIONS\u001b[0m\u001b[1;33m,\u001b[0m \u001b[0menc\u001b[0m\u001b[1;33m)\u001b[0m\u001b[1;33m\u001b[0m\u001b[0m\n\u001b[0m\u001b[0;32m     77\u001b[0m \u001b[1;33m\u001b[0m\u001b[0m\n\u001b[0;32m     78\u001b[0m     \u001b[1;32mdef\u001b[0m \u001b[0mclear_actions\u001b[0m\u001b[1;33m(\u001b[0m\u001b[0mself\u001b[0m\u001b[1;33m)\u001b[0m\u001b[1;33m:\u001b[0m\u001b[1;33m\u001b[0m\u001b[0m\n",
      "\u001b[1;32mC:\\ProgramData\\Anaconda3\\envs\\scrapy\\lib\\site-packages\\selenium\\webdriver\\remote\\webdriver.py\u001b[0m in \u001b[0;36mexecute\u001b[1;34m(self, driver_command, params)\u001b[0m\n\u001b[0;32m    306\u001b[0m         \u001b[0mresponse\u001b[0m \u001b[1;33m=\u001b[0m \u001b[0mself\u001b[0m\u001b[1;33m.\u001b[0m\u001b[0mcommand_executor\u001b[0m\u001b[1;33m.\u001b[0m\u001b[0mexecute\u001b[0m\u001b[1;33m(\u001b[0m\u001b[0mdriver_command\u001b[0m\u001b[1;33m,\u001b[0m \u001b[0mparams\u001b[0m\u001b[1;33m)\u001b[0m\u001b[1;33m\u001b[0m\u001b[0m\n\u001b[0;32m    307\u001b[0m         \u001b[1;32mif\u001b[0m \u001b[0mresponse\u001b[0m\u001b[1;33m:\u001b[0m\u001b[1;33m\u001b[0m\u001b[0m\n\u001b[1;32m--> 308\u001b[1;33m             \u001b[0mself\u001b[0m\u001b[1;33m.\u001b[0m\u001b[0merror_handler\u001b[0m\u001b[1;33m.\u001b[0m\u001b[0mcheck_response\u001b[0m\u001b[1;33m(\u001b[0m\u001b[0mresponse\u001b[0m\u001b[1;33m)\u001b[0m\u001b[1;33m\u001b[0m\u001b[0m\n\u001b[0m\u001b[0;32m    309\u001b[0m             response['value'] = self._unwrap_value(\n\u001b[0;32m    310\u001b[0m                 response.get('value', None))\n",
      "\u001b[1;32mC:\\ProgramData\\Anaconda3\\envs\\scrapy\\lib\\site-packages\\selenium\\webdriver\\remote\\errorhandler.py\u001b[0m in \u001b[0;36mcheck_response\u001b[1;34m(self, response)\u001b[0m\n\u001b[0;32m    192\u001b[0m         \u001b[1;32melif\u001b[0m \u001b[0mexception_class\u001b[0m \u001b[1;33m==\u001b[0m \u001b[0mUnexpectedAlertPresentException\u001b[0m \u001b[1;32mand\u001b[0m \u001b[1;34m'alert'\u001b[0m \u001b[1;32min\u001b[0m \u001b[0mvalue\u001b[0m\u001b[1;33m:\u001b[0m\u001b[1;33m\u001b[0m\u001b[0m\n\u001b[0;32m    193\u001b[0m             \u001b[1;32mraise\u001b[0m \u001b[0mexception_class\u001b[0m\u001b[1;33m(\u001b[0m\u001b[0mmessage\u001b[0m\u001b[1;33m,\u001b[0m \u001b[0mscreen\u001b[0m\u001b[1;33m,\u001b[0m \u001b[0mstacktrace\u001b[0m\u001b[1;33m,\u001b[0m \u001b[0mvalue\u001b[0m\u001b[1;33m[\u001b[0m\u001b[1;34m'alert'\u001b[0m\u001b[1;33m]\u001b[0m\u001b[1;33m.\u001b[0m\u001b[0mget\u001b[0m\u001b[1;33m(\u001b[0m\u001b[1;34m'text'\u001b[0m\u001b[1;33m)\u001b[0m\u001b[1;33m)\u001b[0m\u001b[1;33m\u001b[0m\u001b[0m\n\u001b[1;32m--> 194\u001b[1;33m         \u001b[1;32mraise\u001b[0m \u001b[0mexception_class\u001b[0m\u001b[1;33m(\u001b[0m\u001b[0mmessage\u001b[0m\u001b[1;33m,\u001b[0m \u001b[0mscreen\u001b[0m\u001b[1;33m,\u001b[0m \u001b[0mstacktrace\u001b[0m\u001b[1;33m)\u001b[0m\u001b[1;33m\u001b[0m\u001b[0m\n\u001b[0m\u001b[0;32m    195\u001b[0m \u001b[1;33m\u001b[0m\u001b[0m\n\u001b[0;32m    196\u001b[0m     \u001b[1;32mdef\u001b[0m \u001b[0m_value_or_default\u001b[0m\u001b[1;33m(\u001b[0m\u001b[0mself\u001b[0m\u001b[1;33m,\u001b[0m \u001b[0mobj\u001b[0m\u001b[1;33m,\u001b[0m \u001b[0mkey\u001b[0m\u001b[1;33m,\u001b[0m \u001b[0mdefault\u001b[0m\u001b[1;33m)\u001b[0m\u001b[1;33m:\u001b[0m\u001b[1;33m\u001b[0m\u001b[0m\n",
      "\u001b[1;31mMoveTargetOutOfBoundsException\u001b[0m: Message: (306.45833587646484, 2158.10009765625) is out of bounds of viewport width (1011) and height (1039)\n"
     ]
    }
   ],
   "source": [
    "ActionChains(driver).(driver.find_element_by_xpath(xpath_next_page)).perform()"
   ]
  },
  {
   "cell_type": "code",
   "execution_count": 33,
   "metadata": {
    "collapsed": true
   },
   "outputs": [],
   "source": [
    "element_to_click = driver.find_element_by_xpath(xpath_next_page)\n",
    "actions = ActionChains(driver)\n",
    "driver.execute_script(\"arguments[0].scrollIntoView();\", element)\n",
    "actions.move_to_element(element)\n",
    "actions.click(element_to_click)\n",
    "actions.perform()"
   ]
  },
  {
   "cell_type": "code",
   "execution_count": 13,
   "metadata": {
    "collapsed": true
   },
   "outputs": [],
   "source": []
  },
  {
   "cell_type": "code",
   "execution_count": null,
   "metadata": {
    "collapsed": true
   },
   "outputs": [],
   "source": []
  }
 ],
 "metadata": {
  "kernelspec": {
   "display_name": "Python36 scrapy",
   "language": "python",
   "name": "myenv"
  },
  "language_info": {
   "codemirror_mode": {
    "name": "ipython",
    "version": 3
   },
   "file_extension": ".py",
   "mimetype": "text/x-python",
   "name": "python",
   "nbconvert_exporter": "python",
   "pygments_lexer": "ipython3",
   "version": "3.5.4"
  }
 },
 "nbformat": 4,
 "nbformat_minor": 2
}
